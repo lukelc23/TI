{
 "cells": [
  {
   "cell_type": "code",
   "execution_count": null,
   "metadata": {},
   "outputs": [],
   "source": [
    "    # SD: symbolic distance\n",
    "    # Negatives in logic since we are looking at the distance \n",
    "    # between two items, smaller being greater\n",
    "\n",
    "    #create test set with symbolic distance of 1\n",
    "    def createTestSetSD1(num_items):\n",
    "        item_indices = torch.arange(num_items)\n",
    "        one_hot_vectors = F.one_hot(item_indices, num_classes = num_items)\n",
    "        testSet = []\n",
    "        testLabels = []\n",
    "        for idx_i, i in enumerate(one_hot_vectors):\n",
    "            for idx_j, j in enumerate(one_hot_vectors):\n",
    "                if (idx_i - idx_j) <= -1:\n",
    "                    concatenated = torch.cat((i,j))\n",
    "                    testSet.append(concatenated.tolist())\n",
    "                    if idx_i < idx_j:\n",
    "                        testLabels.append(1)\n",
    "                    else:\n",
    "                        testLabels.append(-1)\n",
    "        return testSet, testLabels\n",
    "\n",
    "    #create test set with symbolic distance of 2\n",
    "    def createTestSetSD2(num_items):\n",
    "        item_indices = torch.arange(num_items)\n",
    "        one_hot_vectors = F.one_hot(item_indices, num_classes = num_items)\n",
    "        testSet = []\n",
    "        testLabels = []\n",
    "        for idx_i, i in enumerate(one_hot_vectors):\n",
    "            for idx_j, j in enumerate(one_hot_vectors):\n",
    "                if (idx_i - idx_j) <= -2:\n",
    "                    concatenated = torch.cat((i,j))\n",
    "                    testSet.append(concatenated.tolist())\n",
    "                    if idx_i < idx_j:\n",
    "                        testLabels.append(1)\n",
    "                    else:\n",
    "                        testLabels.append(-1)\n",
    "        return testSet, testLabels\n",
    "    \n",
    "    #create test set with symbolic distance of 3\n",
    "    def createTestSetSD3(num_items):\n",
    "        item_indices = torch.arange(num_items)\n",
    "        one_hot_vectors = F.one_hot(item_indices, num_classes = num_items)\n",
    "        testSet = []\n",
    "        testLabels = []\n",
    "        for idx_i, i in enumerate(one_hot_vectors):\n",
    "            for idx_j, j in enumerate(one_hot_vectors):\n",
    "                if (idx_i - idx_j) <= -3:\n",
    "                    concatenated = torch.cat((i,j))\n",
    "                    testSet.append(concatenated.tolist())\n",
    "                    if idx_i < idx_j:\n",
    "                        testLabels.append(1)\n",
    "                    else:\n",
    "                        testLabels.append(-1)\n",
    "        return testSet, testLabels\n",
    "    \n",
    "    #create test set with symbolic distance of 4\n",
    "    def createTestSetSD4(num_items):\n",
    "        item_indices = torch.arange(num_items)\n",
    "        one_hot_vectors = F.one_hot(item_indices, num_classes = num_items)\n",
    "        testSet = []\n",
    "        testLabels = []\n",
    "        for idx_i, i in enumerate(one_hot_vectors):\n",
    "            for idx_j, j in enumerate(one_hot_vectors):\n",
    "                if (idx_i - idx_j) <= -4:\n",
    "                    concatenated = torch.cat((i,j))\n",
    "                    testSet.append(concatenated.tolist())\n",
    "                    if idx_i < idx_j:\n",
    "                        testLabels.append(1)\n",
    "                    else:\n",
    "                        testLabels.append(-1)\n",
    "        return testSet, testLabels\n"
   ]
  },
  {
   "cell_type": "code",
   "execution_count": null,
   "metadata": {},
   "outputs": [
    {
     "name": "stdout",
     "output_type": "stream",
     "text": [
      "Test Set:  [[1, 0, 0, 0, 0, 0, 0, 0, 1, 0, 0, 0, 0, 0], [1, 0, 0, 0, 0, 0, 0, 0, 0, 1, 0, 0, 0, 0], [1, 0, 0, 0, 0, 0, 0, 0, 0, 0, 1, 0, 0, 0], [1, 0, 0, 0, 0, 0, 0, 0, 0, 0, 0, 1, 0, 0], [1, 0, 0, 0, 0, 0, 0, 0, 0, 0, 0, 0, 1, 0], [1, 0, 0, 0, 0, 0, 0, 0, 0, 0, 0, 0, 0, 1], [0, 1, 0, 0, 0, 0, 0, 0, 0, 1, 0, 0, 0, 0], [0, 1, 0, 0, 0, 0, 0, 0, 0, 0, 1, 0, 0, 0], [0, 1, 0, 0, 0, 0, 0, 0, 0, 0, 0, 1, 0, 0], [0, 1, 0, 0, 0, 0, 0, 0, 0, 0, 0, 0, 1, 0], [0, 1, 0, 0, 0, 0, 0, 0, 0, 0, 0, 0, 0, 1], [0, 0, 1, 0, 0, 0, 0, 0, 0, 0, 1, 0, 0, 0], [0, 0, 1, 0, 0, 0, 0, 0, 0, 0, 0, 1, 0, 0], [0, 0, 1, 0, 0, 0, 0, 0, 0, 0, 0, 0, 1, 0], [0, 0, 1, 0, 0, 0, 0, 0, 0, 0, 0, 0, 0, 1], [0, 0, 0, 1, 0, 0, 0, 0, 0, 0, 0, 1, 0, 0], [0, 0, 0, 1, 0, 0, 0, 0, 0, 0, 0, 0, 1, 0], [0, 0, 0, 1, 0, 0, 0, 0, 0, 0, 0, 0, 0, 1], [0, 0, 0, 0, 1, 0, 0, 0, 0, 0, 0, 0, 1, 0], [0, 0, 0, 0, 1, 0, 0, 0, 0, 0, 0, 0, 0, 1], [0, 0, 0, 0, 0, 1, 0, 0, 0, 0, 0, 0, 0, 1]]\n",
      "Test Labels:  [1, 1, 1, 1, 1, 1, 1, 1, 1, 1, 1, 1, 1, 1, 1, 1, 1, 1, 1, 1, 1]\n",
      "SD1 Verified by inspection\n"
     ]
    }
   ],
   "source": [
    "testSetSD1, testLabelsSD1 = Ti.createTestSetSD1(num_items)\n",
    "print(\"Test Set: \", testSetSD1)\n",
    "print(\"Test Labels: \", testLabelsSD1)\n",
    "print(\"SD1 Verified by inspection\")"
   ]
  },
  {
   "cell_type": "code",
   "execution_count": null,
   "metadata": {},
   "outputs": [
    {
     "name": "stdout",
     "output_type": "stream",
     "text": [
      "Test Set:  [[1, 0, 0, 0, 0, 0, 0, 0, 0, 1, 0, 0, 0, 0], [1, 0, 0, 0, 0, 0, 0, 0, 0, 0, 1, 0, 0, 0], [1, 0, 0, 0, 0, 0, 0, 0, 0, 0, 0, 1, 0, 0], [1, 0, 0, 0, 0, 0, 0, 0, 0, 0, 0, 0, 1, 0], [1, 0, 0, 0, 0, 0, 0, 0, 0, 0, 0, 0, 0, 1], [0, 1, 0, 0, 0, 0, 0, 0, 0, 0, 1, 0, 0, 0], [0, 1, 0, 0, 0, 0, 0, 0, 0, 0, 0, 1, 0, 0], [0, 1, 0, 0, 0, 0, 0, 0, 0, 0, 0, 0, 1, 0], [0, 1, 0, 0, 0, 0, 0, 0, 0, 0, 0, 0, 0, 1], [0, 0, 1, 0, 0, 0, 0, 0, 0, 0, 0, 1, 0, 0], [0, 0, 1, 0, 0, 0, 0, 0, 0, 0, 0, 0, 1, 0], [0, 0, 1, 0, 0, 0, 0, 0, 0, 0, 0, 0, 0, 1], [0, 0, 0, 1, 0, 0, 0, 0, 0, 0, 0, 0, 1, 0], [0, 0, 0, 1, 0, 0, 0, 0, 0, 0, 0, 0, 0, 1], [0, 0, 0, 0, 1, 0, 0, 0, 0, 0, 0, 0, 0, 1]]\n",
      "Test Labels:  [1, 1, 1, 1, 1, 1, 1, 1, 1, 1, 1, 1, 1, 1, 1]\n",
      "SD2 Verified by inspection\n"
     ]
    }
   ],
   "source": [
    "\n",
    "\n",
    "testSetSD2, testLabelsSD2 = Ti.createTestSetSD2(num_items)\n",
    "print(\"Test Set: \", testSetSD2)\n",
    "print(\"Test Labels: \", testLabelsSD2)\n",
    "print(\"SD2 Verified by inspection\")"
   ]
  },
  {
   "cell_type": "code",
   "execution_count": null,
   "metadata": {},
   "outputs": [
    {
     "name": "stdout",
     "output_type": "stream",
     "text": [
      "Test Set:  [[1, 0, 0, 0, 0, 0, 0, 0, 0, 0, 1, 0, 0, 0], [1, 0, 0, 0, 0, 0, 0, 0, 0, 0, 0, 1, 0, 0], [1, 0, 0, 0, 0, 0, 0, 0, 0, 0, 0, 0, 1, 0], [1, 0, 0, 0, 0, 0, 0, 0, 0, 0, 0, 0, 0, 1], [0, 1, 0, 0, 0, 0, 0, 0, 0, 0, 0, 1, 0, 0], [0, 1, 0, 0, 0, 0, 0, 0, 0, 0, 0, 0, 1, 0], [0, 1, 0, 0, 0, 0, 0, 0, 0, 0, 0, 0, 0, 1], [0, 0, 1, 0, 0, 0, 0, 0, 0, 0, 0, 0, 1, 0], [0, 0, 1, 0, 0, 0, 0, 0, 0, 0, 0, 0, 0, 1], [0, 0, 0, 1, 0, 0, 0, 0, 0, 0, 0, 0, 0, 1]]\n",
      "Test Labels:  [1, 1, 1, 1, 1, 1, 1, 1, 1, 1]\n",
      "SD3 Verified by inspection\n"
     ]
    }
   ],
   "source": [
    "testSetSD3, testLabelsSD3 = Ti.createTestSetSD3(num_items)\n",
    "print(\"Test Set: \", testSetSD3)\n",
    "print(\"Test Labels: \", testLabelsSD3)\n",
    "print(\"SD3 Verified by inspection\")"
   ]
  },
  {
   "cell_type": "code",
   "execution_count": null,
   "metadata": {},
   "outputs": [
    {
     "name": "stdout",
     "output_type": "stream",
     "text": [
      "Test Set:  [[1, 0, 0, 0, 0, 0, 0, 0, 0, 0, 0, 1, 0, 0], [1, 0, 0, 0, 0, 0, 0, 0, 0, 0, 0, 0, 1, 0], [1, 0, 0, 0, 0, 0, 0, 0, 0, 0, 0, 0, 0, 1], [0, 1, 0, 0, 0, 0, 0, 0, 0, 0, 0, 0, 1, 0], [0, 1, 0, 0, 0, 0, 0, 0, 0, 0, 0, 0, 0, 1], [0, 0, 1, 0, 0, 0, 0, 0, 0, 0, 0, 0, 0, 1]]\n",
      "Test Labels:  [1, 1, 1, 1, 1, 1]\n",
      "SD3 Verified by inspection\n"
     ]
    }
   ],
   "source": [
    "testSetSD4, testLabelsSD4 = Ti.createTestSetSD4(num_items)\n",
    "print(\"Test Set: \", testSetSD4)\n",
    "print(\"Test Labels: \", testLabelsSD4)\n",
    "print(\"SD3 Verified by inspection\")"
   ]
  }
 ],
 "metadata": {
  "language_info": {
   "name": "python"
  }
 },
 "nbformat": 4,
 "nbformat_minor": 2
}
